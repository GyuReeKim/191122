{
 "cells": [
  {
   "cell_type": "code",
   "execution_count": 9,
   "metadata": {},
   "outputs": [
    {
     "name": "stdout",
     "output_type": "stream",
     "text": [
      "{'boxOfficeResult': {'boxofficeType': '일별 박스오피스', 'showRange': '20191115~20191115', 'dailyBoxOfficeList': [{'rnum': '1', 'rank': '1', 'rankInten': '0', 'rankOldAndNew': 'OLD', 'movieCd': '20195002', 'movieNm': '블랙머니', 'openDt': '2019-11-13', 'salesAmt': '1400310100', 'salesShare': '41.6', 'salesInten': '428855480', 'salesChange': '44.1', 'salesAcc': '3567413030', 'audiCnt': '160475', 'audiInten': '37886', 'audiChange': '30.9', 'audiAcc': '429677', 'scrnCnt': '1053', 'showCnt': '4926'}, {'rnum': '2', 'rank': '2', 'rankInten': '0', 'rankOldAndNew': 'OLD', 'movieCd': '20181434', 'movieNm': '신의 한 수: 귀수편', 'openDt': '2019-11-07', 'salesAmt': '714595680', 'salesShare': '21.2', 'salesInten': '109768930', 'salesChange': '18.1', 'salesAcc': '13338027600', 'audiCnt': '81750', 'audiInten': '5859', 'audiChange': '7.7', 'audiAcc': '1555571', 'scrnCnt': '988', 'showCnt': '4438'}, {'rnum': '3', 'rank': '3', 'rankInten': '0', 'rankOldAndNew': 'OLD', 'movieCd': '20191029', 'movieNm': '82년생 김지영', 'openDt': '2019-10-23', 'salesAmt': '344873270', 'salesShare': '10.3', 'salesInten': '54275270', 'salesChange': '18.7', 'salesAcc': '27833783790', 'audiCnt': '41068', 'audiInten': '3299', 'audiChange': '8.7', 'audiAcc': '3380422', 'scrnCnt': '687', 'showCnt': '2153'}, {'rnum': '4', 'rank': '4', 'rankInten': '0', 'rankOldAndNew': 'OLD', 'movieCd': '20192083', 'movieNm': '터미네이터: 다크 페이트', 'openDt': '2019-10-30', 'salesAmt': '241973780', 'salesShare': '7.2', 'salesInten': '61799350', 'salesChange': '34.3', 'salesAcc': '18405548620', 'audiCnt': '27784', 'audiInten': '4912', 'audiChange': '21.5', 'audiAcc': '2202469', 'scrnCnt': '596', 'showCnt': '1416'}, {'rnum': '5', 'rank': '5', 'rankInten': '0', 'rankOldAndNew': 'OLD', 'movieCd': '20197721', 'movieNm': '엔젤 해즈 폴른', 'openDt': '2019-11-13', 'salesAmt': '176468530', 'salesShare': '5.2', 'salesInten': '39786250', 'salesChange': '29.1', 'salesAcc': '472293580', 'audiCnt': '20977', 'audiInten': '3268', 'audiChange': '18.5', 'audiAcc': '58977', 'scrnCnt': '588', 'showCnt': '1851'}, {'rnum': '6', 'rank': '6', 'rankInten': '0', 'rankOldAndNew': 'OLD', 'movieCd': '20198421', 'movieNm': '좀비랜드: 더블 탭', 'openDt': '2019-11-13', 'salesAmt': '163081360', 'salesShare': '4.8', 'salesInten': '21240080', 'salesChange': '15', 'salesAcc': '479967990', 'audiCnt': '18454', 'audiInten': '858', 'audiChange': '4.9', 'audiAcc': '57225', 'scrnCnt': '548', 'showCnt': '1957'}, {'rnum': '7', 'rank': '7', 'rankInten': '0', 'rankOldAndNew': 'OLD', 'movieCd': '20190280', 'movieNm': '날씨의 아이', 'openDt': '2019-10-30', 'salesAmt': '81511940', 'salesShare': '2.4', 'salesInten': '-39838640', 'salesChange': '-32.8', 'salesAcc': '4749340740', 'audiCnt': '9740', 'audiInten': '-6421', 'audiChange': '-39.7', 'audiAcc': '576301', 'scrnCnt': '282', 'showCnt': '454'}, {'rnum': '8', 'rank': '8', 'rankInten': '1', 'rankOldAndNew': 'OLD', 'movieCd': '20196284', 'movieNm': '윤희에게', 'openDt': '2019-11-14', 'salesAmt': '51827760', 'salesShare': '1.5', 'salesInten': '16680970', 'salesChange': '47.5', 'salesAcc': '137789550', 'audiCnt': '7014', 'audiInten': '2502', 'audiChange': '55.5', 'audiAcc': '17201', 'scrnCnt': '310', 'showCnt': '558'}, {'rnum': '9', 'rank': '9', 'rankInten': '-1', 'rankOldAndNew': 'OLD', 'movieCd': '20197279', 'movieNm': '아담스 패밀리', 'openDt': '2019-11-07', 'salesAmt': '30772960', 'salesShare': '0.9', 'salesInten': '-1770380', 'salesChange': '-5.4', 'salesAcc': '1883547350', 'audiCnt': '4106', 'audiInten': '-449', 'audiChange': '-9.9', 'audiAcc': '234850', 'scrnCnt': '267', 'showCnt': '338'}, {'rnum': '10', 'rank': '10', 'rankInten': '2', 'rankOldAndNew': 'OLD', 'movieCd': '20199950', 'movieNm': '조커', 'openDt': '2019-10-02', 'salesAmt': '19622180', 'salesShare': '0.6', 'salesInten': '6212880', 'salesChange': '46.3', 'salesAcc': '45266452110', 'audiCnt': '2206', 'audiInten': '585', 'audiChange': '36.1', 'audiAcc': '5234643', 'scrnCnt': '64', 'showCnt': '90'}]}}\n"
     ]
    }
   ],
   "source": [
    "from datetime import datetime, timedelta\n",
    "import requests\n",
    "\n",
    "today = datetime.today()\n",
    "\n",
    "for i in range(2):\n",
    "    targetDt = (today + timedelta(days=-(i+1)*7)).strftime('%Y%m%d')\n",
    "    # print(targetDt)\n",
    "\n",
    "    url = 'http://www.kobis.or.kr/kobisopenapi/webservice/rest/boxoffice/searchDailyBoxOfficeList.json'\n",
    "    key = '660f73acbf0225280f5db341b9f4e840'\n",
    "    movie_url = f'{url}?key={key}&targetDt={targetDt}'\n",
    "\n",
    "    res = requests.get(movie_url).json()\n",
    "    print(res)"
   ]
  },
  {
   "cell_type": "code",
   "execution_count": 14,
   "metadata": {
    "scrolled": true
   },
   "outputs": [
    {
     "name": "stdout",
     "output_type": "stream",
     "text": [
      "['블랙머니', '신의 한 수: 귀수편', '82년생 김지영', '터미네이터: 다크 페이트', '엔젤 해즈 폴른', '좀비랜드: 더블 탭', '날씨의 아이', '윤희에게', '아담스 패밀리', '조커']\n"
     ]
    }
   ],
   "source": [
    "movieNm_list = []\n",
    "for i in range(10):\n",
    "    movieNm = res.get('boxOfficeResult').get('dailyBoxOfficeList')[i].get('movieNm')\n",
    "    if movieNm not in movieNm_list:\n",
    "        movieNm_list.append(movieNm)\n",
    "print(movieNm_list)"
   ]
  },
  {
   "cell_type": "code",
   "execution_count": 28,
   "metadata": {
    "scrolled": false
   },
   "outputs": [
    {
     "name": "stdout",
     "output_type": "stream",
     "text": [
      "['일명 서울지검 ‘막프로’! 검찰 내에서 거침없이 막 나가는 문제적 검사로  이름을 날리는 ‘양민혁’은 자신이 조사를 담당한 피의자가 자살하는 사건으로 인해  하루 아침에 벼랑 끝에 내몰린다. 억울한 누명을 벗기 위해 내막을 파헤치던 그는  피의자가 대한은행 헐값 매각사건의 중요 증인이었음을 알게 된다.   근거는 의문의 팩스 5장! 자산가치 70조 은행이 1조 7천억원에 넘어간  희대의 사건 앞에서 ‘양민혁’ 검사는 금융감독원, 대형 로펌, 해외펀드 회사가 뒤얽힌  거대한 금융 비리의 실체와 마주하게 되는데…   대한민국 최대의 금융스캔들, 사건은 아직 끝나지 않았다!']\n",
      "['바둑으로 모든 것을 잃은 아이 ‘귀수’ 유일하게 기대던 스승 허일도마저 잃고 홀로 살아남아 세상을 향한 복수를 계획한다. 운명의 선택은 神의 놀음판에 있다! 자신을 사지로 내몬 냉혹한 내기바둑판으로 뛰어든 귀수(권상우)는 전국을 돌아다니며 귀신 같이 바둑을 두는 자들과 대결을 펼치는데…  사활을 건 대결! 신의 한 수를 다시 두시겠습니까?']\n",
      "['1982년 봄에 태어나 누군가의 딸이자 아내, 동료이자 엄마로 2019년 오늘을 살아가는 ‘지영’(정유미). 때론 어딘가 갇힌 듯 답답하기도 하지만 남편 ‘대현’(공유)과 사랑스러운 딸, 그리고 자주 만나지 못해도 항상 든든한 가족들이 ‘지영’에겐 큰 힘이다.  하지만 언젠가부터 마치 다른 사람이 된 것처럼 말하는 ‘지영’. ‘대현’은 아내가 상처 입을까 두려워 그 사실을 털어놓지 못하고 ‘지영’은 이런 ‘대현’에게 언제나 “괜찮다”라며 웃어 보이기만 하는데…  모두가 알지만 아무도 몰랐던 당신과 나의 이야기']\n",
      "['심판의 날 그 후, 뒤바뀐 미래  새로운 인류의 희망 ‘대니’(나탈리아 레이즈)를 지키기 위해 슈퍼 솔져 ‘그레이스’(맥켄지 데이비스)가 미래에서 찾아오고, ‘대니’를 제거하기 위한 터미네이터 ‘Rev-9’(가브리엘 루나)의 추격이 시작된다.   최첨단 기술력으로 무장한 최강의 적 터미네이터 ‘Rev-9’의 무차별적인 공격에 쫓기기 시작하던 ‘그레이스’와 ‘대니’ 앞에 터미네이터 헌터 ‘사라 코너’(린다 해밀턴)가 나타나 도움을 준다.   인류의 수호자이자 기계로 강화된 슈퍼 솔져 ‘그레이스’와 ‘사라 코너’는 ‘대니’를 지키기 위해  새로운 조력자를 찾아 나서고, 터미네이터 ‘Rev-9’은 그들의 뒤를 끈질기게 추격하는데...  더 이상 정해진 미래는 없다  지키려는 자 VS 제거하려는 자, 새로운 운명이 격돌한다!']\n",
      "[\"비밀 경호국 최고 요원 ‘배닝’(제라드 버틀러)의 임무수행 중 '트럼불' 대통령(모건 프리먼)을 향한 의문의 사상 최대 규모의 드론 테러가 발생한다. 최악의 드론 테러 사건 후 '배닝'은 대통령 암살사건의 테러범으로 지목되고 국가 영웅은 한순간에 일급 수배자가 되어 FBI에게 쫓기게 되는데...  표적이 된 그가 다시 움직인다! 숨막히는 추격! 모두가 그를 쫓는다!\"]\n",
      "['좀비로 세상이 망한지 10년, 자신들만의 재능을 발휘하고 생존 규칙을 지키며 여전히 꿋꿋하게 살아가고 있는 희한한 가족 탤러해시, 콜럼버스, 위치타, 리틀록.  하지만 ‘좀비랜드’에 더욱 진화한 좀비가 나타나고 이들은 새로운 인간 생존자들과 함께 사투를 시작하는데…']\n",
      "['비가 그치지 않던 어느 여름날, 가출 소년 ‘호다카’는 수상한 잡지사에 취직하게 되고 비밀스러운 소녀 ‘히나’를 우연히 만난다.  “지금부터 하늘이 맑아질 거야”  그녀의 기도에 거짓말 같이 빗줄기는 멈추고, 사람들의 얼굴에 환한 빛이 내려온다.  “신기해, 날씨 하나에 사람들의 감정이 이렇게나 움직이다니”  하지만, 맑음 뒤 흐림이 찾아오듯 두 사람은 엄청난 세계의 비밀을 마주하게 되는데…  흐리기만 했던 세상이 빛나기 시작했고, 그 끝에는 네가 있었다.']\n",
      "[\"평범한 일상을 살아가던 '윤희' 앞으로 도착한 한 통의 편지. 편지를 몰래 읽어본 딸 '새봄'은 편지의 내용을 숨긴 채 발신인이 살고 있는 곳으로 여행을 제안하고, '윤희'는 비밀스러웠던 첫사랑의 기억으로 가슴이 뛴다. '새봄'과 함께 여행을 떠난 ‘윤희’는 끝없이 눈이 내리는 그곳에서 첫사랑을 만날지도 모른다는 기대를 품는데…\"]\n",
      "['언제나 쿨한 괴짜 엄마 ‘모티시아’부터 사고치는 아이들이 자랑스러운 아빠 ‘고메즈’, 부모님이 모르는 많은 걸 가진 소녀 ‘웬즈데이’, 폭발물 실험이 취미인 막내 ‘퍽슬리’까지! 평범치 않은 ‘아담스 패밀리’가 평범한 동네에 나타났다. 지금껏 본 적 없는 가족의 등장에 마을 사람들은 ‘아담스 패밀리’를 괴물로 몰아가기 시작하는데…']\n",
      "['고담시의 광대 아서 플렉은 코미디언을 꿈꾸는 남자. 하지만 모두가 미쳐가는 코미디 같은 세상에서 맨 정신으로는 그가 설 자리가 없음을 깨닫게 되는데… 이제껏 본 적 없는 진짜 ‘조커’를 만나라!']\n"
     ]
    }
   ],
   "source": [
    "import urllib.request\n",
    "import json\n",
    "from bs4 import BeautifulSoup\n",
    " \n",
    "#애플리케이션 클라이언트 id 및 secret\n",
    "client_id = \"hG6O_G7PA_2DCtQbUri0\" \n",
    "client_secret = \"fsSh41QFYc\"\n",
    "\n",
    "\n",
    "#영화검색 url\n",
    "url = \"https://openapi.naver.com/v1/search/movie.json\"\n",
    "option = \"&display=1\"\n",
    "\n",
    "for movie_name in movieNm_list:\n",
    "\n",
    "    query = \"?query=\"+urllib.parse.quote(movie_name) # movieNm\n",
    "    url_query = url + query + option\n",
    "\n",
    "    #Open API 검색 요청 개체 설정\n",
    "    request = urllib.request.Request(url_query)\n",
    "    request.add_header(\"X-Naver-Client-Id\",client_id)\n",
    "    request.add_header(\"X-Naver-Client-Secret\",client_secret)\n",
    "\n",
    "    #검색 요청 및 처리\n",
    "    response = urllib.request.urlopen(request)\n",
    "    rescode = response.getcode()\n",
    "    if(rescode == 200):\n",
    "        response_body = response.read()\n",
    "        str_info = response_body.decode('utf-8')\n",
    "        # print(type(temp))\n",
    "        dict_info = json.loads(str_info)\n",
    "#         print(dict_info.get('items')[0].get('title').replace('<b>', '').replace('</b>', ''))\n",
    "#         print(dict_info.get('items')[0].get('link')) # 줄거리 크롤링에 필요\n",
    "#         print(dict_info.get('items')[0].get('director'))\n",
    "\n",
    "#         print(dict_info.get('items')[0].get('subtitle').replace('<b>', '').replace('</b>', ''))\n",
    "#         print(dict_info.get('items')[0].get('userRating')) # string type\n",
    "#         print(dict_info.get('items')[0].get('image'))\n",
    "#         print()\n",
    "        link = dict_info.get('items')[0].get('link')\n",
    "        \n",
    "        response = requests.get(link).text\n",
    "        soup = BeautifulSoup(response, 'html.parser')\n",
    "\n",
    "\n",
    "        contents = soup.select('div.story_area > p.con_tx')\n",
    "        # print(contents)\n",
    "\n",
    "        # 줄거리\n",
    "        movie_info = []\n",
    "        if len(contents) == 0:\n",
    "            movie_info.append(\"줄거리 없음\")\n",
    "        else:\n",
    "            for c in contents:\n",
    "                temp = c.text\n",
    "                temp = temp.replace('\\r', '')\n",
    "                temp = temp.replace('\\xa0', ' ')\n",
    "                movie_info.append(temp)\n",
    "        print(movie_info)\n",
    "    else:\n",
    "        print(\"Error code:\"+rescode)"
   ]
  }
 ],
 "metadata": {
  "kernelspec": {
   "display_name": "Python 3",
   "language": "python",
   "name": "python3"
  },
  "language_info": {
   "codemirror_mode": {
    "name": "ipython",
    "version": 3
   },
   "file_extension": ".py",
   "mimetype": "text/x-python",
   "name": "python",
   "nbconvert_exporter": "python",
   "pygments_lexer": "ipython3",
   "version": "3.7.4"
  }
 },
 "nbformat": 4,
 "nbformat_minor": 2
}
